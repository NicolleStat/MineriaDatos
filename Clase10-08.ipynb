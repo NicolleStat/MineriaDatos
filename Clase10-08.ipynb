{
 "cells": [
  {
   "cell_type": "markdown",
   "id": "aae33ce2",
   "metadata": {},
   "source": [
    "# Curso de ciencia de datos"
   ]
  },
  {
   "cell_type": "markdown",
   "id": "8360e916",
   "metadata": {},
   "source": [
    "## Práctica 1"
   ]
  },
  {
   "cell_type": "markdown",
   "id": "4a426a10-2af5-47b0-ba35-752f03e8d248",
   "metadata": {},
   "source": [
    "### Python"
   ]
  },
  {
   "cell_type": "markdown",
   "id": "f9b6328f",
   "metadata": {},
   "source": [
    "Vamos  escribir un código para escribir la función $$sen(x)$$"
   ]
  },
  {
   "cell_type": "markdown",
   "id": "91412794",
   "metadata": {},
   "source": [
    "Descargamos las librerias de python"
   ]
  },
  {
   "cell_type": "code",
   "execution_count": 1,
   "id": "43e8149e",
   "metadata": {},
   "outputs": [],
   "source": [
    "import numpy as np\n",
    "import matplotlib.pyplot as plt"
   ]
  },
  {
   "cell_type": "code",
   "execution_count": 3,
   "id": "8e014735",
   "metadata": {},
   "outputs": [],
   "source": [
    "x=np.linspace(0, 2*np.pi, 30)\n",
    "y=np.sin(x)"
   ]
  },
  {
   "cell_type": "code",
   "execution_count": 7,
   "id": "842010e9-6eda-4a1f-b48f-801f7064f6cc",
   "metadata": {},
   "outputs": [
    {
     "data": {
      "text/plain": [
       "Text(0.5, 0, 'X')"
      ]
     },
     "execution_count": 7,
     "metadata": {},
     "output_type": "execute_result"
    },
    {
     "data": {
      "image/png": "[encoded data removed]",
      "text/plain": [
       "<Figure size 432x288 with 1 Axes>"
      ]
     },
     "metadata": {
      "needs_background": "light"
     },
     "output_type": "display_data"
    }
   ],
   "source": [
    "plt.plot(x,y)\n",
    "plt.grid(True)\n",
    "plt.ylabel('Y')\n",
    "plt.xlabel('X')"
   ]
  },
  {
   "cell_type": "markdown",
   "id": "3342a0cc-9b29-47f7-960d-4b0b8cdd9e5c",
   "metadata": {},
   "source": [
    "### Latex"
   ]
  },
  {
   "cell_type": "markdown",
   "id": "ec30cd8f-823b-44c8-a4f7-7781dc79bb6c",
   "metadata": {},
   "source": [
    "$$\n",
    "\\begin{aligned}\n",
    "P(T \\geq k) &=P\\left(\\frac{T-\\frac{n(n+1)}{4}}{\\sqrt{\\frac{n(n+1)(2n+1)}{24}}}>\\frac{k-\\frac{n(n+1)}{4}}{\\sqrt{\\frac{n(n+1)(2n+1)}{24}}}\\right) =P\\left(Z>\\frac{k-\\frac{n(n+1)}{4}}{\\sqrt{\\frac{n(n+1)(2n+1)}{24}}}\\right) \\\\\n",
    "&=P\\left(Z>Z_{1-\\alpha}\\right) \n",
    "\\end{aligned}\n",
    "$$"
   ]
  },
  {
   "cell_type": "markdown",
   "id": "9562228a-3d1c-4d35-aa1a-c87aecbcc0aa",
   "metadata": {},
   "source": [
    "### HTML"
   ]
  },
  {
   "cell_type": "markdown",
   "id": "3806dc9b-4d77-455c-9e08-6771c09e38f1",
   "metadata": {},
   "source": [
    "Usamos celdas de formato markdown"
   ]
  },
  {
   "cell_type": "code",
   "execution_count": null,
   "id": "e2bbfe62-0692-4f38-9c1f-514aee7d5b2f",
   "metadata": {},
   "outputs": [],
   "source": [
    " # <h1>  Esto es un titulo con html"
   ]
  },
  {
   "cell_type": "markdown",
   "id": "99ef2588-8c28-41be-b16b-62fdf156454a",
   "metadata": {},
   "source": [
    "<h1>  Esto es un titulo con html"
   ]
  },
  {
   "cell_type": "markdown",
   "id": "a016d4e3-8b1a-438c-acf5-7502cd16dc79",
   "metadata": {},
   "source": [
    "Tambien podemos hacer tablas en html:"
   ]
  },
  {
   "cell_type": "code",
   "execution_count": null,
   "id": "904fcbb5-3ed7-48c1-92ea-2b44cc033d1c",
   "metadata": {},
   "outputs": [],
   "source": [
    "#<table>\n",
    "#  <tr>\n",
    "#    <td>Celda 1</td>\n",
    "#    <td>Celda 2</td>\n",
    "#    <td>Celda 3</td>\n",
    "#  </tr>\n",
    "#\n",
    "#  <tr>\n",
    "#    <td>Celda 4</td>\n",
    "#    <td>Celda 5</td>\n",
    "#    <td>Celda 6</td>\n",
    "#  </tr>\n",
    "#\n",
    "#</table>"
   ]
  },
  {
   "cell_type": "markdown",
   "id": "628ed1b8-2b48-438a-9752-6dc7a2596623",
   "metadata": {},
   "source": [
    "<table>\n",
    "  <tr>\n",
    "    <td>Celda 1</td>\n",
    "    <td>Celda 2</td>\n",
    "    <td>Celda 3</td>\n",
    "  </tr>\n",
    "\n",
    "  <tr>\n",
    "    <td>Celda 4</td>\n",
    "    <td>Celda 5</td>\n",
    "    <td>Celda 6</td>\n",
    "  </tr>\n",
    "\n",
    "</table>"
   ]
  },
  {
   "cell_type": "markdown",
   "id": "d919ebd2-b1c6-44eb-aff4-ac98a3d47309",
   "metadata": {},
   "source": [
    "### Markdown"
   ]
  },
  {
   "cell_type": "markdown",
   "id": "e8ec918e-b7a3-4729-91b6-66e1426dc24b",
   "metadata": {},
   "source": [
    "En markdown podemos hacer listas numeradas y no numeradas, escribiendo:"
   ]
  },
  {
   "cell_type": "code",
   "execution_count": null,
   "id": "72e02b06-e822-4a85-9c87-d8b850693093",
   "metadata": {},
   "outputs": [],
   "source": [
    "#1. Item 1\n",
    "#2. Item 2\n",
    "#    1. subitem 2.1\n",
    "#    5. subitem 2.2\n",
    "#       2. sub sub 2.2.1\n",
    "#3. Item 3\n",
    "#   + lista 1\n",
    "#   + lista 2\n",
    "#     - listaaa\n",
    "#     - listaaa"
   ]
  },
  {
   "cell_type": "markdown",
   "id": "be76cb47-d0db-49bd-9561-870da142d141",
   "metadata": {},
   "source": [
    "1. Item 1\n",
    "2. Item 2\n",
    "    1. subitem 2.1\n",
    "    5. subitem 2.2\n",
    "       2. sub sub 2.2.1\n",
    "3. Item 3\n",
    "   + lista 1\n",
    "   + lista 2\n",
    "     - listaaa\n",
    "     - listaaa"
   ]
  },
  {
   "cell_type": "markdown",
   "id": "ee40e670-ca41-4c8e-9624-5724dd64e458",
   "metadata": {},
   "source": [
    "### Imagen, link y video externos"
   ]
  },
  {
   "cell_type": "markdown",
   "id": "f054f1df-7da5-44fe-a986-2061936a0888",
   "metadata": {},
   "source": [
    "Se suben con los siguientes comandos en celdas markdown"
   ]
  },
  {
   "cell_type": "code",
   "execution_count": null,
   "id": "167989a5-7aa8-4e84-9e31-81dfee6d95a8",
   "metadata": {},
   "outputs": [],
   "source": [
    "#![titulo](nombre del archivo dentro del ambiente del notebook)"
   ]
  },
  {
   "cell_type": "markdown",
   "id": "c1f29a94-7065-4e28-b2b8-e0f40b0a34b3",
   "metadata": {},
   "source": [
    "![Hanna](Hanna.png)"
   ]
  },
  {
   "cell_type": "markdown",
   "id": "1263e9b8-1098-48e8-ab64-912e75f8eebc",
   "metadata": {},
   "source": [
    "Para links basta con poner el link dentro del formato <>"
   ]
  },
  {
   "cell_type": "markdown",
   "id": "b0a24b98-952a-4284-8a90-676a0213266e",
   "metadata": {},
   "source": [
    "<https://www.kaggle.com/datasets/unsdsn/world-happiness?select=2015.csv>"
   ]
  },
  {
   "cell_type": "markdown",
   "id": "e6e56430-5eab-4f2e-8321-16033b61585e",
   "metadata": {},
   "source": [
    "Para videos de YouTube se utiliza una celda con código en Python en la cual se importa la librería que ofrece esta funcion. Luego se instancia un objeto (con la dirección del video deseado, que se obtiene a partir de la URL del mismo)"
   ]
  },
  {
   "cell_type": "code",
   "execution_count": 6,
   "id": "7da8378f-7ec5-4e5c-8839-9d72eb9d6b50",
   "metadata": {},
   "outputs": [
    {
     "data": {
      "image/jpeg": "[encoded data removed]",
      "text/html": [
       "\n",
       "        <iframe\n",
       "            width=\"400\"\n",
       "            height=\"300\"\n",
       "            src=\"https://www.youtube.com/embed/QcCwyPsyuVA\"\n",
       "            frameborder=\"0\"\n",
       "            allowfullscreen\n",
       "            \n",
       "        ></iframe>\n",
       "        "
      ],
      "text/plain": [
       "<IPython.lib.display.YouTubeVideo at 0x27d4cf5ee90>"
      ]
     },
     "metadata": {},
     "output_type": "display_data"
    }
   ],
   "source": [
    "# importar la clase que permite ver videos\n",
    "from IPython.display import YouTubeVideo\n",
    "\n",
    "# crear una instancia del objeto YouTubeVideo\n",
    "youtube_video = YouTubeVideo('QcCwyPsyuVA')\n",
    "\n",
    "# mostrar el video de YouTube\n",
    "display(youtube_video)"
   ]
  }
 ],
 "metadata": {
  "kernelspec": {
   "display_name": "Python 3 (ipykernel)",
   "language": "python",
   "name": "python3"
  },
  "language_info": {
   "codemirror_mode": {
    "name": "ipython",
    "version": 3
   },
   "file_extension": ".py",
   "mimetype": "text/x-python",
   "name": "python",
   "nbconvert_exporter": "python",
   "pygments_lexer": "ipython3",
   "version": "3.10.4"
  }
 },
 "nbformat": 4,
 "nbformat_minor": 5
}
