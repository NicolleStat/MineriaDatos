{
 "cells": [
  {
   "cell_type": "markdown",
   "id": "f38f796c-4f66-4e02-9c28-deb95c493298",
   "metadata": {},
   "source": [
    "# Tarea 2 Minería de datos\n",
    "## Ejercicios propuestos\n",
    "1. En una tienda se necesita crear un buscador de clientes y su contacto, de manera que resulte en todas las coincidencias con dicho nombre o apellido referidos.   "
   ]
  },
  {
   "cell_type": "code",
   "execution_count": 41,
   "id": "e49a43cd-f74b-405d-9bb1-c6cec657308c",
   "metadata": {},
   "outputs": [
    {
     "name": "stdout",
     "output_type": "stream",
     "text": [
      "Maria Suarez \n",
      "Tel: 392878 \n",
      "\n",
      "Luis Suarez \n",
      "Tel: 834904 \n",
      "\n",
      "Maria Fernandez \n",
      "Tel: 456728 \n",
      "\n",
      "Wilson Suarez \n",
      "Tel: 723694 \n",
      "\n"
     ]
    }
   ],
   "source": [
    "# inmutable ya que son listas de clientes fijas de un dia anterior\n",
    "Nombre=(\"Andres\",\"Maria\", \"Sara\", \"Rosa\", \"Luis\", \"Maria\", \"Wilson\")\n",
    "Apellido=(\"Rojas\",\"Suarez\",\"Muñoz\",\"Martinez\",\"Suarez\",\"Fernandez\",\"Suarez\")\n",
    "Tel=(\"172639\",\"392878\",\"159202\",\"569266\",\"834904\",\"456728\", \"723694\")\n",
    "\n",
    "cliente=(\"Maria\",\"Suarez\")\n",
    "\n",
    "# conjunto para evitar conseguir registros repetidos\n",
    "lista=[]\n",
    "\n",
    "for j in cliente:\n",
    "    if j in Nombre:\n",
    "       for i in range(len(Nombre)):\n",
    "            if j==Nombre[i]:\n",
    "               lista.append(i)\n",
    "    elif j in Apellido:\n",
    "       for i in range(len(Apellido)):\n",
    "            if j==Apellido[i]:\n",
    "               lista.append(i) \n",
    "    else:\n",
    "        print(\"No se han encontrado coincidencias\")\n",
    "\n",
    "lista2=list(set(lista))   # evitar registros repetidos\n",
    "for i in lista2:\n",
    "    print(Nombre[i],Apellido[i],\"\\nTel:\",Tel[i], \"\\n\")     \n"
   ]
  },
  {
   "cell_type": "markdown",
   "id": "35f25def-5e53-4267-aa0d-f122206b351e",
   "metadata": {},
   "source": [
    "2. Una empresa de planeación de eventos desea crear un presupuesto para sus clientes en base a un diccionario que contiene todas las opciones disponibles para estos eventos."
   ]
  },
  {
   "cell_type": "code",
   "execution_count": 55,
   "id": "f68b5834-2d7a-4d0c-b39b-f198ce6a74d3",
   "metadata": {},
   "outputs": [],
   "source": [
    "Eventos=dict(\n",
    "                Lugar = {'Bellavista': 1035,'Rioazul':1000,'Tendra':2140},\n",
    "                Centros = {'Florales':20, 'Piedras luz':10, 'Rosas frescas':12},\n",
    "                Musica = {'Dj':20, 'Show en vivo':50},\n",
    "                Banquete = {'Pollo':18, 'Carne en salsa':14, 'Cordero':21, 'Vegetariano':22},\n",
    "                Decoración = {'Globos':123, 'Telas':230}\n",
    "            )\n"
   ]
  },
  {
   "cell_type": "code",
   "execution_count": 56,
   "id": "5d950d00-2393-4eda-9649-5c09720d5ab9",
   "metadata": {},
   "outputs": [
    {
     "name": "stdin",
     "output_type": "stream",
     "text": [
      "¿Cuántas personas habrá en el evento? 122\n",
      "Salón BELLAVISTA\n",
      "Centros de mesa FLORALES\n",
      "Música DJ\n",
      "Banquete POLLO\n",
      "Decoración principal GLOBOS\n"
     ]
    }
   ],
   "source": [
    "n = int(input('¿Cuántas personas habrá en el evento?'))\n",
    "l = input('Salón').title()\n",
    "c = input('Centros de mesa').title()\n",
    "m = input('Música').title()\n",
    "b = input('Banquete').title()\n",
    "d = input('Decoración principal').title()\n",
    "\n",
    "\n",
    "# Tamaño adecuado para el salón\n",
    "while (n > 100) and (l=='Rioazul'):\n",
    "   print('Salón Rioazul es muy pequeño por favor escoja otro salón')\n",
    "   l = input('Salón').title()  \n",
    "    "
   ]
  },
  {
   "cell_type": "code",
   "execution_count": 57,
   "id": "07b250ac-a1fe-4c2d-a3fe-23b1fb58efaf",
   "metadata": {},
   "outputs": [
    {
     "name": "stdout",
     "output_type": "stream",
     "text": [
      "---------------- COTIZACIÓN --------------------\n",
      " 1035 Salón Bellavista \n",
      " 20 Centro de mesa Florales \n",
      " 20 Música Dj \n",
      " 2196 Banquete Pollo x 122 personas \n",
      " 123 Decoración Globos \n",
      " ---------------------------------\n",
      " 3394 TOTAL\n"
     ]
    }
   ],
   "source": [
    "print(\"---------------- COTIZACIÓN --------------------\\n\", \n",
    "     Eventos['Lugar'][l], \"Salón\", l, \"\\n\", \n",
    "     Eventos['Centros'][c], \"Centro de mesa\", c,\"\\n\", \n",
    "     Eventos['Musica'][m], \"Música\", m, \"\\n\", \n",
    "     Eventos['Banquete'][b]*n,\"Banquete\", b, \"x\", n , \"personas\",\"\\n\", \n",
    "     Eventos['Decoración'][d], \"Decoración\", d, \"\\n\",\n",
    "      \"---------------------------------\\n\",\n",
    "     Eventos['Lugar'][l] + Eventos['Centros'][c] + Eventos['Musica'][m] + Eventos['Banquete'][b]*n + Eventos['Decoración'][d] , \"TOTAL\"\n",
    "     )"
   ]
  },
  {
   "cell_type": "code",
   "execution_count": null,
   "id": "26e17003-d059-4a47-8798-a8640e9d8035",
   "metadata": {},
   "outputs": [],
   "source": []
  }
 ],
 "metadata": {
  "kernelspec": {
   "display_name": "Python 3 (ipykernel)",
   "language": "python",
   "name": "python3"
  },
  "language_info": {
   "codemirror_mode": {
    "name": "ipython",
    "version": 3
   },
   "file_extension": ".py",
   "mimetype": "text/x-python",
   "name": "python",
   "nbconvert_exporter": "python",
   "pygments_lexer": "ipython3",
   "version": "3.10.4"
  }
 },
 "nbformat": 4,
 "nbformat_minor": 5
}
