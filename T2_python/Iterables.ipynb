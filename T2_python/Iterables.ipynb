{
 "cells": [
  {
   "cell_type": "code",
   "execution_count": 38,
   "id": "081b824c-8bf0-4fb0-802f-ed80c0f47252",
   "metadata": {},
   "outputs": [],
   "source": [
    "from datetime import datetime\n",
    "import csv\n",
    "\n",
    "class CuentaBancaria:\n",
    "\n",
    "    MIN_SALDO = -10_000\n",
    "    \n",
    "    def __init__(self, cliente, numero_cuenta, saldo=0):\n",
    "        self.cliente = cliente    \n",
    "        self.numero_cuenta = numero_cuenta\n",
    "        self.creada_en = datetime.now().date()\n",
    "        if saldo < self.MIN_SALDO:\n",
    "            raise ValueError(\"¡Saldo muy pequeño!\")\n",
    "        else:\n",
    "            self.saldo = saldo\n",
    "    \n",
    "    @classmethod\n",
    "    def from_csv(cls, filepath):\n",
    "        with open(filepath, \"r\") as f:\n",
    "            fila = csv.reader(f).__next__()\n",
    "            cliente, numero_cuenta = fila\n",
    "            return cls(cliente, numero_cuenta)\n",
    "     \n",
    "    def deposito(self, monto):\n",
    "        self.saldo += monto\n",
    "        \n",
    "    def retiro(self, monto):\n",
    "        self.saldo -= monto\n",
    "    \n",
    "    "
   ]
  },
  {
   "cell_type": "markdown",
   "metadata": {},
   "source": [
    "Probamos la clase."
   ]
  },
  {
   "cell_type": "code",
   "execution_count": 15,
   "metadata": {},
   "outputs": [
    {
     "name": "stdout",
     "output_type": "stream",
     "text": [
      "María 151148 0 2022-08-16\n"
     ]
    }
   ],
   "source": [
    "# usando el método de clase\n",
    "path = 'https://raw.githubusercontent.com/AprendizajeProfundo/Libro_Fundamentos_Programacion/main/Python/Datos/cuenta.csv'\n",
    "mi_cuenta = CuentaBancaria.from_csv(path)\n",
    "print(mi_cuenta.cliente, mi_cuenta.numero_cuenta, mi_cuenta.saldo, mi_cuenta.creada_en)"
   ]
  },
  {
   "cell_type": "code",
   "execution_count": 16,
   "metadata": {},
   "outputs": [
    {
     "name": "stdout",
     "output_type": "stream",
     "text": [
      "María 151148 0 2022-08-16\n"
     ]
    }
   ],
   "source": [
    "# usando el constructor __init__\n",
    "print(mi_cuenta.cliente, mi_cuenta.numero_cuenta, mi_cuenta.saldo, mi_cuenta.creada_en)"
   ]
  }
   "source": [
    "# usando el método de clase\n",
    "path = 'https://raw.githubusercontent.com/AprendizajeProfundo/Libro_Fundamentos_Programacion/main/Python/Datos/cuenta.csv'\n",
    "mi_cuenta = CuentaBancaria.from_csv(path)"
   ]
  },
  {
   "cell_type": "code",
   "execution_count": 31,
   "id": "576056e0-21ff-4897-9b18-f44c4955990a",
   "metadata": {},
   "outputs": [],
   "source": [
    "## init es reconocido por python para ser ejecutado\n",
    "## self: guarda la referencia del objeto\n",
    "class Humano:\n",
    "    def __init__(self,edadarg):  \n",
    "        self.edad = edadarg                 # atributo\n",
    "        \n",
    "    def hablar(self, mensaje):         # metodo\n",
    "        print(mensaje, \"mi edad\", self.edad)\n",
    "    \n",
    "        \n",
    "pedro=Humano(22)\n",
    "raul=Humano(14)"
   ]
  },
  {
   "cell_type": "code",
   "execution_count": 32,
   "id": "9724873c-e8de-4acd-8d20-1e97a9f1a278",
   "metadata": {},
   "outputs": [
    {
     "name": "stdout",
     "output_type": "stream",
     "text": [
      "Hola mi edad 22\n"
     ]
    }
   ],
   "source": [
    "pedro.hablar('Hola')"
   ]
  },
  {
   "cell_type": "code",
   "execution_count": 30,
   "id": "6e8a3b3b-7f3e-48e0-95f9-6a313c05bc1b",
   "metadata": {},
   "outputs": [
    {
     "name": "stdout",
     "output_type": "stream",
     "text": [
      "soy pedro y tengo 22\n",
      "soy raul y tengo 14\n"
     ]
    }
   ],
   "source": [
    "print('soy pedro y tengo',pedro.edad)\n",
    "print('soy raul y tengo',raul.edad)"
   ]
  },
  {
   "cell_type": "code",
   "execution_count": 49,
   "id": "7f10ad2e-a453-442e-a5bb-971fcb35033a",
   "metadata": {},
   "outputs": [
    {
     "ename": "OSError",
     "evalue": "[Errno 22] Invalid argument: 'https://raw.githubusercontent.com/NicolleStat/MineriaDatos/main/T2_python/Banco_datos.csv'",
     "output_type": "error",
     "traceback": [
      "\u001b[1;31m---------------------------------------------------------------------------\u001b[0m",
      "\u001b[1;31mOSError\u001b[0m                                   Traceback (most recent call last)",
      "Input \u001b[1;32mIn [49]\u001b[0m, in \u001b[0;36m<cell line: 1>\u001b[1;34m()\u001b[0m\n\u001b[1;32m----> 1\u001b[0m doc\u001b[38;5;241m=\u001b[39m\u001b[38;5;28;43mopen\u001b[39;49m\u001b[43m(\u001b[49m\u001b[38;5;124;43m\"\u001b[39;49m\u001b[38;5;124;43mhttps://raw.githubusercontent.com/NicolleStat/MineriaDatos/main/T2_python/Banco_datos.csv\u001b[39;49m\u001b[38;5;124;43m\"\u001b[39;49m\u001b[43m,\u001b[49m\u001b[38;5;124;43m\"\u001b[39;49m\u001b[38;5;124;43mrb\u001b[39;49m\u001b[38;5;124;43m\"\u001b[39;49m\u001b[43m)\u001b[49m\n",
      "\u001b[1;31mOSError\u001b[0m: [Errno 22] Invalid argument: 'https://raw.githubusercontent.com/NicolleStat/MineriaDatos/main/T2_python/Banco_datos.csv'"
     ]
    }
   ],
   "source": [
    "doc=open(\"https://raw.githubusercontent.com/NicolleStat/MineriaDatos/main/T2_python/Banco_datos.csv\",\"rb\")"
   ]
  },
  {
   "cell_type": "code",
   "execution_count": 45,
   "id": "0174f8a3-3d7c-43b7-ad64-ba86e41dde76",
   "metadata": {},
   "outputs": [],
   "source": [
    "import pandas as pd\n",
    "data = pd.read_csv('https://raw.githubusercontent.com/NicolleStat/MineriaDatos/main/T2_python/Banco_datos.csv')"
   ]
  },
  {
   "cell_type": "code",
   "execution_count": 46,
   "id": "850ef798-bae3-4ba8-bd37-ac5494654f70",
   "metadata": {},
   "outputs": [
    {
     "name": "stdout",
     "output_type": "stream",
     "text": [
      "    cuenta     nombre  saldo_actual ultima_trans\n",
      "0   345678       Luis      77424559   17/08/2022\n",
      "1   704033    Armando      67547502   17/10/2018\n",
      "2   640322      Mario     590483977   21/07/2017\n",
      "3   171979   Patricia     680101364   27/04/2020\n",
      "4   879242    Marcela     413971495   15/10/2020\n",
      "5   845579      Sofia     734562634    9/04/2017\n",
      "6   449329     Freddy     240286978    8/08/2021\n",
      "7   251402      Maria     594849965   20/03/2019\n",
      "8   821724       Hugo      58826867    9/09/2019\n",
      "9   956128   Catalina     540645421    9/11/2018\n",
      "10  100928     Daniel       5504568    8/10/2022\n",
      "11  414761  Alejandra     429813766    8/09/2021\n",
      "12  271468       Aura     917439651   30/12/2021\n",
      "13  136173     Sandra     584904041   18/12/2021\n",
      "14  770453    Mariana     879630537   11/12/2018\n",
      "15  456063     Aurora     331177737   27/02/2017\n",
      "16  206864    Nicolas       1193476   30/12/2017\n",
      "17  200701    Michael      50662374   20/08/2020\n",
      "18  440636      Roman     932129203   23/06/2021\n",
      "19  404864     Bertha     294437625    1/01/2020\n",
      "20  594993    Cecilia     332645739   30/06/2022\n",
      "21  889654    Claudia     461797256   12/04/2022\n"
     ]
    }
   ],
   "source": [
    "print(data)"
   ]
  },
  {
   "cell_type": "code",
   "execution_count": null,
   "id": "9f2cdee3-dd8f-4165-8ed6-8515f05c5a4e",
   "metadata": {},
   "outputs": [],
   "source": []
  }
 ],
 "metadata": {
  "kernelspec": {
   "display_name": "Python 3 (ipykernel)",
   "language": "python",
   "name": "python3"
  },
  "language_info": {
   "codemirror_mode": {
    "name": "ipython",
    "version": 3
   },
   "file_extension": ".py",
   "mimetype": "text/x-python",
   "name": "python",
   "nbconvert_exporter": "python",
   "pygments_lexer": "ipython3",
   "version": "3.10.4"
  }
 },
 "nbformat": 4,
 "nbformat_minor": 5
}
